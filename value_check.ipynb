{
 "cells": [
  {
   "cell_type": "code",
   "execution_count": 11,
   "metadata": {},
   "outputs": [],
   "source": [
    "import pandas as pd"
   ]
  },
  {
   "cell_type": "code",
   "execution_count": 2,
   "metadata": {},
   "outputs": [],
   "source": [
    "# Set pandas display option to show the full text in the \"output\" column\n",
    "pd.set_option('display.max_colwidth', None)"
   ]
  },
  {
   "cell_type": "code",
   "execution_count": 12,
   "metadata": {},
   "outputs": [],
   "source": [
    "# Load the CSV file\n",
    "df = pd.read_csv('dataset-v2.2.csv', encoding='iso-8859-1')"
   ]
  },
  {
   "cell_type": "code",
   "execution_count": 13,
   "metadata": {},
   "outputs": [],
   "source": [
    "# Specify the column you want to check\n",
    "column_name = 'retailer'"
   ]
  },
  {
   "cell_type": "code",
   "execution_count": 5,
   "metadata": {},
   "outputs": [],
   "source": [
    "# Get unique value counts for the specified column\n",
    "unique_value_counts = df[column_name].value_counts()"
   ]
  },
  {
   "cell_type": "code",
   "execution_count": 14,
   "metadata": {},
   "outputs": [
    {
     "data": {
      "text/plain": [
       "retailer\n",
       "Laptops Direct            2741\n",
       "Back Market               1084\n",
       "Hughes                     925\n",
       "eBay                       401\n",
       "Amazon                     343\n",
       "Argos                      150\n",
       "Refurbished Laptops         92\n",
       "EE Store                    85\n",
       "TEKshop                     84\n",
       "Val-U-Computers             78\n",
       "Laptop Station Limited       8\n",
       "O2                           8\n",
       "Name: count, dtype: int64"
      ]
     },
     "execution_count": 14,
     "metadata": {},
     "output_type": "execute_result"
    }
   ],
   "source": [
    "unique_value_counts"
   ]
  },
  {
   "cell_type": "code",
   "execution_count": 15,
   "metadata": {},
   "outputs": [],
   "source": [
    "num_duplicates_column = df['output'].duplicated().sum()"
   ]
  },
  {
   "cell_type": "code",
   "execution_count": 16,
   "metadata": {},
   "outputs": [
    {
     "data": {
      "text/plain": [
       "3372"
      ]
     },
     "execution_count": 16,
     "metadata": {},
     "output_type": "execute_result"
    }
   ],
   "source": [
    "num_duplicates_column"
   ]
  },
  {
   "cell_type": "code",
   "execution_count": 17,
   "metadata": {},
   "outputs": [],
   "source": [
    "duplicates_column = df['output'].duplicated()"
   ]
  },
  {
   "cell_type": "code",
   "execution_count": 18,
   "metadata": {},
   "outputs": [
    {
     "data": {
      "text/plain": [
       "0       False\n",
       "1       False\n",
       "2       False\n",
       "3       False\n",
       "4       False\n",
       "        ...  \n",
       "5994     True\n",
       "5995     True\n",
       "5996     True\n",
       "5997     True\n",
       "5998     True\n",
       "Name: output, Length: 5999, dtype: bool"
      ]
     },
     "execution_count": 18,
     "metadata": {},
     "output_type": "execute_result"
    }
   ],
   "source": [
    "duplicates_column"
   ]
  },
  {
   "cell_type": "code",
   "execution_count": 14,
   "metadata": {},
   "outputs": [
    {
     "data": {
      "text/plain": [
       "0                       {\\n  \"title\": \"FUJITSU LIFEBOOK A532 15.6\\\" i5-3230m 8GB 500GB WINDOWS 11\",\\n  \"price\": \"EUR 131.00\",\\n  \"brand\": \"Fujitsu\",\\n  \"retailer\": \"eBay\"\\n}\n",
       "1                                                                      {\\n  \"title\": \"HP EliteBook 840 G5\",\\n  \"price\": \"$419.00\",\\n  \"brand\": \"HP\",\\n  \"retailer\": \"eBay\"\\n}\n",
       "2                                                                   {\\n  \"title\": \"ASUS EAH4670 Laptop\",\\n  \"price\": \"EUR 5.00\",\\n  \"brand\": \"ASUS\",\\n  \"retailer\": \"eBay\"\\n}\n",
       "3                                        {\\n  \"title\": \"Acer TravelMate TMP449-G2-M-52VM - 14\\\" i5-7200U\",\\n  \"price\": \"Â£9.99\",\\n  \"brand\": \"Acer\",\\n  \"retailer\": \"eBay\"\\n}\n",
       "4                                        {\\n  \"title\": \"HP 6570b ii5-3320M 8GB 500GB 15.6\\\" WINDOWS 10\",\\n  \"price\": \"EUR 121.00\",\\n  \"brand\": \"HP\",\\n  \"retailer\": \"eBay\"\\n}\n",
       "5    {\\n  \"title\": \"FAULTY - Vintage Toshiba Satellite 4090CDS Laptop - SPARE OR REPAIRS - Powers Up\",\\n  \"price\": \"Â£49.99\",\\n  \"brand\": \"Toshiba\",\\n  \"retailer\": \"eBay\"\\n}\n",
       "6                                                        {\\n  \"title\": \"Dell LATITUDE D620 CORE 2 T7200\",\\n  \"price\": \"Â£78.88\",\\n  \"brand\": \"Dell\",\\n  \"retailer\": \"eBay\"\\n}\n",
       "7                                                          {\\n  \"title\": \"Toshiba Tecra A40-C Laptop\",\\n  \"price\": \"Â£94.99\",\\n  \"brand\": \"Toshiba\",\\n  \"retailer\": \"eBay\"\\n}\n",
       "8                                                                   {\\n  \"title\": \"Dell Latitude 13 3380\",\\n  \"price\": \"Â£9.99\",\\n  \"brand\": \"Dell\",\\n  \"retailer\": \"eBay\"\\n}\n",
       "9                                            {\\n  \"title\": \"LENOVO IDEAPAD 320-15AST FAULTY, UNTESTED\",\\n  \"price\": \"Â£45.00\",\\n  \"brand\": \"Lenovo\",\\n  \"retailer\": \"eBay\"\\n}\n",
       "Name: output, dtype: object"
      ]
     },
     "execution_count": 14,
     "metadata": {},
     "output_type": "execute_result"
    }
   ],
   "source": [
    "df['output'].head(10)"
   ]
  },
  {
   "cell_type": "code",
   "execution_count": 15,
   "metadata": {},
   "outputs": [
    {
     "data": {
      "text/plain": [
       "10       {\\n  \"title\": \"LENOVO THINKPAD T440s 14\\\" 8GB I5-4300U 500GB DOPPIA BATTERIA WINDOWS 10\",\\n  \"price\": \"EUR 151.00\",\\n  \"brand\": \"Lenovo\",\\n  \"retailer\": \"eBay\"\\n}\n",
       "11                                               {\\n  \"title\": \"Lenovo ThinkPad T470 Intel i5 6300U\",\\n  \"price\": \"$229.00\",\\n  \"brand\": \"Lenovo\",\\n  \"retailer\": \"eBay\"\\n}\n",
       "12                                                                   {\\n  \"title\": \"HP EliteBook 850 G5\",\\n  \"price\": \"$399.00\",\\n  \"brand\": \"HP\",\\n  \"retailer\": \"eBay\"\\n}\n",
       "13           {\\n  \"title\": \"Dell Latitude 7400 Intel i5 8365U 16GB RAM 512GB SSD 14\\\" Win 11 - B Grad\",\\n  \"price\": \"$349.00\",\\n  \"brand\": \"Dell\",\\n  \"retailer\": \"eBay\"\\n}\n",
       "14       {\\n  \"title\": \"Lenovo ThinkPad T440p 14\\\" Core i3 SSD DVDRW WiFi WebCam Windows 10 Laptop\",\\n  \"price\": \"Â£439.86\",\\n  \"brand\": \"Lenovo\",\\n  \"retailer\": \"eBay\"\\n}\n",
       "15                                                                  {\\n  \"title\": \"Dell Latitude 5480\",\\n  \"price\": \"$299.00\",\\n  \"brand\": \"Dell\",\\n  \"retailer\": \"eBay\"\\n}\n",
       "16      {\\n  \"title\": \"Dell Inspiron 3482 Laptop, 14\\\" Pentium Silver, 8GB RAM, 240GB SSD, Windows 11\",\\n  \"price\": \"Â£99.99\",\\n  \"brand\": \"Dell\",\\n  \"retailer\": \"eBay\"\\n}\n",
       "17                   {\\n  \"title\": \"Samsung 540U I3-3217U Touchscreen 6GB 120 SSD Windows 10 FREE P&P\",\\n  \"price\": 499.99,\\n  \"brand\": \"Samsung\",\\n  \"retailer\": \"eBay\"\\n}\n",
       "18    {\\n  \"title\": \"Dell Latitude 5491 Laptop, 14\\\" Core i5 8th Gen, 8GB RAM, 256GB SSD, Windows 11\",\\n  \"price\": \"Â£164.99\",\\n  \"brand\": \"Dell\",\\n  \"retailer\": \"eBay\"\\n}\n",
       "19                                               {\\n  \"title\": \"Dell Latitude E5440 14\\\" Core i5-4310U\",\\n  \"price\": \"$24.95\",\\n  \"brand\": \"Dell\",\\n  \"retailer\": \"eBay\"\\n}\n",
       "20     {\\n  \"title\": \"Double Screen Laptop 16in Main Screen 14in Touch Sub Screen For CoreI7 DY8\",\\n  \"price\": \"$865.57\",\\n  \"brand\": \"Unbranded\",\\n  \"retailer\": \"eBay\"\\n}\n",
       "Name: output, dtype: object"
      ]
     },
     "execution_count": 15,
     "metadata": {},
     "output_type": "execute_result"
    }
   ],
   "source": [
    "df['output'].iloc[10:21]"
   ]
  }
 ],
 "metadata": {
  "kernelspec": {
   "display_name": "Python 3",
   "language": "python",
   "name": "python3"
  },
  "language_info": {
   "codemirror_mode": {
    "name": "ipython",
    "version": 3
   },
   "file_extension": ".py",
   "mimetype": "text/x-python",
   "name": "python",
   "nbconvert_exporter": "python",
   "pygments_lexer": "ipython3",
   "version": "3.11.5"
  }
 },
 "nbformat": 4,
 "nbformat_minor": 2
}
